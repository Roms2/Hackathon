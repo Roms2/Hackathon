{
 "cells": [
  {
   "cell_type": "code",
   "execution_count": 1,
   "id": "1bdeb54b-d998-4720-a9e7-4f7152aeca56",
   "metadata": {},
   "outputs": [],
   "source": [
    "import numpy as np\n",
    "import pandas as pd\n",
    "import warnings\n",
    "import matplotlib.pyplot as plt\n",
    "from sklearn.model_selection import train_test_split\n",
    "from sklearn.metrics import accuracy_score, recall_score, confusion_matrix, balanced_accuracy_score, average_precision_score, f1_score\n",
    "from sklearn.linear_model import LogisticRegression\n",
    "from sklearn.ensemble import IsolationForest\n",
    "from sklearn.neighbors import LocalOutlierFactor\n",
    "from sklearn.metrics import RocCurveDisplay, PrecisionRecallDisplay, roc_auc_score\n",
    "from sklearn.preprocessing import MinMaxScaler, RobustScaler\n",
    "from imblearn.under_sampling import TomekLinks\n",
    "from imblearn.over_sampling import SMOTE\n",
    "from sklearn.base import clone\n",
    "from sklearn.ensemble import RandomForestClassifier\n",
    "import joblib\n",
    "from sklearn.model_selection import GridSearchCV\n",
    "from sklearn.pipeline import Pipeline\n",
    "from sklearn.preprocessing import RobustScaler\n",
    "from sklearn.metrics import PrecisionRecallDisplay\n",
    "import matplotlib.pyplot as plt\n",
    "from sklearn.linear_model import LogisticRegression\n",
    "from sklearn.ensemble import RandomForestClassifier\n",
    "\n"
   ]
  },
  {
   "cell_type": "markdown",
   "id": "a5c68b43-08bb-4dbf-b3bd-9cf758315c81",
   "metadata": {},
   "source": [
    "## Lecture du fichier"
   ]
  },
  {
   "cell_type": "code",
   "execution_count": 19,
   "id": "9cce2482",
   "metadata": {},
   "outputs": [],
   "source": [
    "with open(\"kddcup.names\", \"r\", encoding=\"utf-8\") as f:\n",
    "    lines = f.readlines()\n",
    "\n",
    "# Ignorer la première ligne (qui contient les classes d'attaques)\n",
    "lines = lines[1:]\n",
    "\n",
    "# Extraire uniquement les noms des colonnes avant les `:` et supprimer les espaces\n",
    "columns = [line.split(\":\")[0].strip() for line in lines]\n",
    "\n",
    "# Ajouter la colonne cible \"label\" (classification)\n",
    "columns.append(\"label\")\n",
    "\n",
    "# Charger le fichier de données avec les colonnes extraites\n",
    "data = pd.read_csv(\"kddcup.data.corrected\", sep=\",\", header=None, names=columns)\n"
   ]
  },
  {
   "cell_type": "code",
   "execution_count": 3,
   "id": "b9e6f77d",
   "metadata": {},
   "outputs": [
    {
     "name": "stdout",
     "output_type": "stream",
     "text": [
      "   duration  src_bytes  dst_bytes  land  wrong_fragment  urgent  hot  \\\n",
      "0         0        215      45076     0               0       0    0   \n",
      "1         0        162       4528     0               0       0    0   \n",
      "2         0        236       1228     0               0       0    0   \n",
      "3         0        233       2032     0               0       0    0   \n",
      "4         0        239        486     0               0       0    0   \n",
      "\n",
      "   num_failed_logins  logged_in  num_compromised  ...  flag_REJ  flag_RSTO  \\\n",
      "0                  0          1                0  ...     False      False   \n",
      "1                  0          1                0  ...     False      False   \n",
      "2                  0          1                0  ...     False      False   \n",
      "3                  0          1                0  ...     False      False   \n",
      "4                  0          1                0  ...     False      False   \n",
      "\n",
      "   flag_RSTOS0  flag_RSTR  flag_S0  flag_S1  flag_S2  flag_S3  flag_SF  \\\n",
      "0        False      False    False    False    False    False     True   \n",
      "1        False      False    False    False    False    False     True   \n",
      "2        False      False    False    False    False    False     True   \n",
      "3        False      False    False    False    False    False     True   \n",
      "4        False      False    False    False    False    False     True   \n",
      "\n",
      "   flag_SH  \n",
      "0    False  \n",
      "1    False  \n",
      "2    False  \n",
      "3    False  \n",
      "4    False  \n",
      "\n",
      "[5 rows x 114 columns]\n"
     ]
    }
   ],
   "source": [
    "data = data.iloc[:489843]\n",
    "\n",
    "# Séparer les caractéristiques et la cible\n",
    "X = data.drop('label', axis=1)\n",
    "Y = data['label']\n",
    "\n",
    "# Appliquer One-Hot Encoding sur les colonnes catégorielles\n",
    "X_encoded = pd.get_dummies(X)\n",
    "\n",
    "# Afficher les premières lignes du dataset après One-Hot Encoding\n",
    "print(X_encoded.head())\n",
    "\n",
    "# Appliquer Isolation Forest sur les données encodées\n",
    "IF = IsolationForest(n_estimators=100, contamination=0.002, random_state=1, n_jobs=-1)\n",
    "outliers_if = IF.fit_predict(X_encoded)\n"
   ]
  },
  {
   "cell_type": "code",
   "execution_count": 4,
   "id": "a24914d7",
   "metadata": {},
   "outputs": [
    {
     "name": "stdout",
     "output_type": "stream",
     "text": [
      "Avant encodage - X.shape: (489843, 41)\n",
      "Avant encodage - Y.shape: (489843,)\n",
      "Après encodage - X_encoded.shape: (489843, 114)\n"
     ]
    }
   ],
   "source": [
    "\n",
    "# Vérifier les dimensions avant encodage\n",
    "X = data.drop('label', axis=1)\n",
    "Y = data['label']\n",
    "\n",
    "print(f\"Avant encodage - X.shape: {X.shape}\")\n",
    "print(f\"Avant encodage - Y.shape: {Y.shape}\")\n",
    "\n",
    "# Appliquer One-Hot Encoding sur les colonnes catégorielles\n",
    "X_encoded = pd.get_dummies(X)\n",
    "\n",
    "# Vérifier les dimensions après encodage\n",
    "print(f\"Après encodage - X_encoded.shape: {X_encoded.shape}\")\n",
    "\n",
    "\n"
   ]
  },
  {
   "cell_type": "code",
   "execution_count": null,
   "id": "8a8cf71d",
   "metadata": {},
   "outputs": [],
   "source": [
    "\n",
    "# Encoder Y avec 'normal' = 0 et les autres labels = 1\n",
    "Y_encoded = data['label'].replace({'normal.': 0}).apply(lambda x: 0 if x == 0 else 1)\n"
   ]
  },
  {
   "cell_type": "markdown",
   "id": "85007dc9-0475-4a60-b554-a8d952d04da3",
   "metadata": {},
   "source": [
    "<h1 style=\"color:blue;\">Approches supervisées</h1>"
   ]
  },
  {
   "cell_type": "code",
   "execution_count": 6,
   "id": "303abce2-b02d-42ab-9235-75431b44e68b",
   "metadata": {},
   "outputs": [],
   "source": [
    "models={'LR' : LogisticRegression(random_state=1),\n",
    "        'LR_Norm' : LogisticRegression(random_state=1),\n",
    "       'RF' : RandomForestClassifier(n_estimators=50, random_state = 1, n_jobs=-1)}"
   ]
  },
  {
   "cell_type": "code",
   "execution_count": 7,
   "id": "38739f9a",
   "metadata": {},
   "outputs": [],
   "source": [
    "def scoring(Ytest,Pred,Prob):\n",
    "    ba=balanced_accuracy_score(Ytest,Pred)\n",
    "    f1=f1_score(Ytest,Pred)\n",
    "    ap=average_precision_score(Ytest,Prob)\n",
    "    print('Matrice de confusion') \n",
    "    print(confusion_matrix(Ytest,Pred))\n",
    "    print('Balanced Accuracy : %.3f' %ba)    \n",
    "    print('F1 Score : %.3f' %f1)\n",
    "    print('Average precision score : %.3f' %ap)\n",
    "    return ba,f1,ap\n",
    "        "
   ]
  },
  {
   "cell_type": "code",
   "execution_count": 8,
   "id": "767149d8-a242-4d4a-87dd-d064c1422e71",
   "metadata": {},
   "outputs": [],
   "source": [
    "def original_approach(Xtrain,Ytrain,Xtest,Ytest,model):\n",
    "    model.fit(Xtrain,Ytrain)\n",
    "    Pred=model.predict(Xtest)\n",
    "    Prob=model.predict_proba(Xtest)[:,1]\n",
    "\n",
    "    best_f1 = f1_score(Ytest,Pred)\n",
    "    best_pred = Pred\n",
    "\n",
    "    for i in np.arange(1.0, 0.0, -0.01):\n",
    "        Pred_LR_new=Prob>=i\n",
    "        test_f1 = f1_score(Ytest,Pred_LR_new)\n",
    "        if test_f1 > best_f1 :\n",
    "            best_f1 = test_f1\n",
    "            best_pred = Pred_LR_new\n",
    "\n",
    "    \n",
    "    return best_pred, Prob"
   ]
  },
  {
   "cell_type": "code",
   "execution_count": 9,
   "id": "33f1c6a6",
   "metadata": {},
   "outputs": [],
   "source": [
    "def Tomek(X,Y):\n",
    "    tl = TomekLinks(n_jobs=-1)\n",
    "    X_tomek, y_Tomek = tl.fit_resample(X, Y)\n",
    "    return X_tomek, y_Tomek\n"
   ]
  },
  {
   "cell_type": "code",
   "execution_count": 10,
   "id": "93915b7a-14df-4f36-8802-1db81210859f",
   "metadata": {},
   "outputs": [],
   "source": [
    "def undersampling_approach(Xtrain,Ytrain,Xtest,Ytest,model):\n",
    "    X_under, Y_under=Tomek(Xtrain,Ytrain)\n",
    "    Pred, Prob=original_approach(X_under, Y_under,Xtest,Ytest,model)\n",
    "    return Pred, Prob"
   ]
  },
  {
   "cell_type": "code",
   "execution_count": 11,
   "id": "b336424e-a7d2-4596-b025-d884b91ef6d0",
   "metadata": {},
   "outputs": [],
   "source": [
    "def Smote(X,Y):\n",
    "    sm=SMOTE(k_neighbors=5,random_state=1)\n",
    "    X_smote, y_smote = sm.fit_resample(X, Y)\n",
    "    return X_smote, y_smote"
   ]
  },
  {
   "cell_type": "code",
   "execution_count": 12,
   "id": "1eccdab3-ff2f-46a6-8fb3-ba19d2825836",
   "metadata": {},
   "outputs": [],
   "source": [
    "def oversampling_approach(Xtrain,Ytrain,Xtest,Ytest,model):\n",
    "    X_over, Y_over=Smote(Xtrain,Ytrain)\n",
    "    Pred, Prob=original_approach(X_over, Y_over,Xtest,Ytest,model)\n",
    "    return Pred, Prob"
   ]
  },
  {
   "cell_type": "code",
   "execution_count": 13,
   "id": "a77070eb-7b9f-46c4-8ccd-1fb00ae4e299",
   "metadata": {},
   "outputs": [],
   "source": [
    "def balancing_approach(Xtrain,Ytrain,Xtest,Ytest,model):\n",
    "    cloned_model = clone(model)\n",
    "    cloned_model.class_weight='balanced'\n",
    "    Pred, Prob=original_approach(Xtrain,Ytrain,Xtest,Ytest,cloned_model)\n",
    "    return Pred, Prob"
   ]
  },
  {
   "cell_type": "code",
   "execution_count": 14,
   "id": "d08dd726-a249-42a5-a1a3-2f8085aa5de9",
   "metadata": {},
   "outputs": [],
   "source": [
    "def isolation_forest(Xtrain,Ytrain,Xtest):\n",
    "    IF = IsolationForest(n_estimators=1000, random_state=1,n_jobs=-1)\n",
    "    IF.fit(Xtrain)\n",
    "    Prob=-IF.decision_function(Xtest)\n",
    "    return Prob"
   ]
  },
  {
   "cell_type": "code",
   "execution_count": 15,
   "id": "89b34bf9-39e6-4e3d-82de-8980ef214286",
   "metadata": {},
   "outputs": [],
   "source": [
    "def LOF_novelty(Xtrain,Ytrain,Xtest):\n",
    "    LOF=LocalOutlierFactor(n_neighbors=200, n_jobs=-1, novelty=True)\n",
    "    print(Xtrain)\n",
    "    LOF.fit(Xtrain[Ytrain==0])\n",
    "    Prob=-LOF.decision_function(Xtest)\n",
    "    return Prob"
   ]
  },
  {
   "cell_type": "code",
   "execution_count": 16,
   "id": "ec8bf513",
   "metadata": {},
   "outputs": [],
   "source": [
    "\n",
    "\n",
    "def comparaison(Xtrain_1, Xtest_1, Ytrain, Ytest, models):\n",
    "    \n",
    "    # Initialisation des variables\n",
    "    best_model = None\n",
    "    best_score = 0\n",
    "\n",
    "    fig, ax = plt.subplots()\n",
    "\n",
    "    # Étape 1 : LOF et Isolation Forest\n",
    "    print(\"Local Outlier Factor : Détection de nouveautés\")\n",
    "    Prob = LOF_novelty(Xtrain_1, Ytrain, Xtest_1)\n",
    "    PrecisionRecallDisplay.from_predictions(Ytest, Prob, name='LOF_novelty', ax=ax)\n",
    "\n",
    "    print(\"Isolation Forest : Détection d'outliers\")\n",
    "    Prob = isolation_forest(Xtrain_1, Ytrain, Xtest_1)\n",
    "    PrecisionRecallDisplay.from_predictions(Ytest, Prob, name='IF', ax=ax)\n",
    "    plt.show()\n",
    "\n",
    "    # Étape 2 : Test des modèles\n",
    "    for name, model in models.items():\n",
    "        \n",
    "        print(f'***************** {name} *****************')\n",
    "\n",
    "        # Prétraitement des données\n",
    "        if name == 'LR_Norm':\n",
    "            RS = RobustScaler()\n",
    "            Xtrain = RS.fit_transform(Xtrain_1)\n",
    "            Xtest = RS.transform(Xtest_1)\n",
    "\n",
    "            joblib.dump(RS, \"scaler.pkl\")\n",
    "\n",
    "        else:\n",
    "            Xtrain = Xtrain_1\n",
    "            Xtest = Xtest_1\n",
    "\n",
    "        # Oversampling et undersampling\n",
    "        X_under, Y_under = Tomek(Xtrain, Ytrain)\n",
    "        X_over, Y_over = Smote(Xtrain, Ytrain)\n",
    "\n",
    "        # Pipeline\n",
    "        pipe = Pipeline([\n",
    "            ('scaler', RobustScaler()),\n",
    "            ('model', model)\n",
    "        ])\n",
    "\n",
    "        # Définition des hyperparamètres selon le modèle\n",
    "        param_grid = {}\n",
    "        if isinstance(model, LogisticRegression):\n",
    "            param_grid = {\n",
    "                'model__C': [0.1, 1, 10],\n",
    "                'model__solver': ['liblinear', 'saga']\n",
    "            }\n",
    "        elif isinstance(model, RandomForestClassifier):\n",
    "            param_grid = {\n",
    "                'model__n_estimators': [50, 100, 200],\n",
    "                'model__max_depth': [None, 10, 20],\n",
    "                'model__min_samples_split': [2, 5, 10]\n",
    "            }\n",
    "\n",
    "        # GridSearch\n",
    "        if param_grid:\n",
    "            grid_search = GridSearchCV(pipe, param_grid, cv=3, scoring='accuracy', n_jobs=-1)\n",
    "            grid_search.fit(Xtrain, Ytrain)\n",
    "            current_model = grid_search.best_estimator_\n",
    "            current_score = grid_search.best_score_\n",
    "        else:\n",
    "            current_model = pipe.fit(Xtrain, Ytrain)\n",
    "            current_score = current_model.score(Xtest, Ytest)\n",
    "\n",
    "\n",
    "\n",
    "        # Mise à jour du meilleur modèle\n",
    "        if current_score > best_score:\n",
    "            best_score = current_score\n",
    "            best_model = current_model\n",
    "\n",
    "        # Affichage des scores et courbes PR\n",
    "        fig, ax = plt.subplots()\n",
    "        \n",
    "        print('****** Original Approach ******')\n",
    "        Pred, Prob = original_approach(Xtrain, Ytrain, Xtest, Ytest, current_model)\n",
    "        scoring(Ytest, Pred, Prob)\n",
    "        PrecisionRecallDisplay.from_predictions(Ytest, Prob, name='Original', ax=ax)\n",
    "\n",
    "        print('****** Balancing Approach ******')\n",
    "        Pred, Prob = balancing_approach(Xtrain, Ytrain, Xtest, Ytest, current_model)\n",
    "        scoring(Ytest, Pred, Prob)\n",
    "        PrecisionRecallDisplay.from_predictions(Ytest, Prob, name='Balancing', ax=ax)\n",
    "\n",
    "        print('****** Under Sampling Approach ******')\n",
    "        Pred, Prob = original_approach(X_under, Y_under, Xtest, Ytest, current_model)\n",
    "        scoring(Ytest, Pred, Prob)\n",
    "        PrecisionRecallDisplay.from_predictions(Ytest, Prob, name='Under Sampling', ax=ax)\n",
    "\n",
    "        plt.show()\n",
    "\n",
    "    # Étape 6 : Sauvegarde du meilleur modèle\n",
    "    if best_model:\n",
    "        print(f\"Enregistrement du meilleur modèle avec un score de {best_score}\")\n",
    "        joblib.dump(best_model, 'best_model.pkl')\n",
    "    else:\n",
    "        print(\"Aucun modèle trouvé.\")\n",
    "\n",
    "\n"
   ]
  },
  {
   "cell_type": "markdown",
   "id": "a456a222",
   "metadata": {},
   "source": [
    "## test"
   ]
  },
  {
   "cell_type": "code",
   "execution_count": 17,
   "id": "db7388a5",
   "metadata": {},
   "outputs": [],
   "source": [
    "Xtrain,Xtest,Ytrain,Ytest=train_test_split(X_encoded,Y_encoded,test_size=0.5,stratify=Y_encoded,random_state=1)"
   ]
  },
  {
   "cell_type": "code",
   "execution_count": 18,
   "id": "a4232b3a",
   "metadata": {},
   "outputs": [
    {
     "name": "stdout",
     "output_type": "stream",
     "text": [
      "Local Outlier Factor : Détection de nouveautés\n",
      "        duration  src_bytes  dst_bytes  land  wrong_fragment  urgent  hot  \\\n",
      "215372         0        293        736     0               0       0    0   \n",
      "45974          0        193       5916     0               0       0    0   \n",
      "232264         0        232       2226     0               0       0    0   \n",
      "217802         0        161       4183     0               0       0    0   \n",
      "35729          0        228       1695     0               0       0    0   \n",
      "...          ...        ...        ...   ...             ...     ...  ...   \n",
      "212367         0        299      10127     0               0       0    0   \n",
      "179756         0        269        255     0               0       0    0   \n",
      "457163         0       1032          0     0               0       0    0   \n",
      "205451         0        208       1660     0               0       0    0   \n",
      "467032         0       1032          0     0               0       0    0   \n",
      "\n",
      "        num_failed_logins  logged_in  num_compromised  ...  flag_REJ  \\\n",
      "215372                  0          1                0  ...     False   \n",
      "45974                   0          1                0  ...     False   \n",
      "232264                  0          1                0  ...     False   \n",
      "217802                  0          1                0  ...     False   \n",
      "35729                   0          1                0  ...     False   \n",
      "...                   ...        ...              ...  ...       ...   \n",
      "212367                  0          1                0  ...     False   \n",
      "179756                  0          1                0  ...     False   \n",
      "457163                  0          0                0  ...     False   \n",
      "205451                  0          1                0  ...     False   \n",
      "467032                  0          0                0  ...     False   \n",
      "\n",
      "        flag_RSTO  flag_RSTOS0  flag_RSTR  flag_S0  flag_S1  flag_S2  flag_S3  \\\n",
      "215372      False        False      False    False    False    False    False   \n",
      "45974       False        False      False    False    False    False    False   \n",
      "232264      False        False      False    False    False    False    False   \n",
      "217802      False        False      False    False    False    False    False   \n",
      "35729       False        False      False    False    False    False    False   \n",
      "...           ...          ...        ...      ...      ...      ...      ...   \n",
      "212367      False        False      False    False    False    False    False   \n",
      "179756      False        False      False    False    False    False    False   \n",
      "457163      False        False      False    False    False    False    False   \n",
      "205451      False        False      False    False    False    False    False   \n",
      "467032      False        False      False    False    False    False    False   \n",
      "\n",
      "        flag_SF  flag_SH  \n",
      "215372     True    False  \n",
      "45974      True    False  \n",
      "232264     True    False  \n",
      "217802     True    False  \n",
      "35729      True    False  \n",
      "...         ...      ...  \n",
      "212367     True    False  \n",
      "179756     True    False  \n",
      "457163     True    False  \n",
      "205451     True    False  \n",
      "467032     True    False  \n",
      "\n",
      "[244921 rows x 114 columns]\n"
     ]
    },
    {
     "name": "stderr",
     "output_type": "stream",
     "text": [
      "c:\\Users\\joanz\\anaconda3\\Lib\\site-packages\\sklearn\\base.py:493: UserWarning: X does not have valid feature names, but LocalOutlierFactor was fitted with feature names\n",
      "  warnings.warn(\n"
     ]
    },
    {
     "name": "stdout",
     "output_type": "stream",
     "text": [
      "Isolation Forest : Détection d'outliers\n"
     ]
    },
    {
     "data": {
      "image/png": "[encoded data removed]",
      "text/plain": [
       "<Figure size 640x480 with 1 Axes>"
      ]
     },
     "metadata": {},
     "output_type": "display_data"
    },
    {
     "name": "stdout",
     "output_type": "stream",
     "text": [
      "***************** LR *****************\n"
     ]
    },
    {
     "name": "stderr",
     "output_type": "stream",
     "text": [
      "c:\\Users\\joanz\\anaconda3\\Lib\\site-packages\\sklearn\\svm\\_base.py:1235: ConvergenceWarning: Liblinear failed to converge, increase the number of iterations.\n",
      "  warnings.warn(\n"
     ]
    },
    {
     "name": "stdout",
     "output_type": "stream",
     "text": [
      "****** Original Approach ******\n"
     ]
    },
    {
     "name": "stderr",
     "output_type": "stream",
     "text": [
      "c:\\Users\\joanz\\anaconda3\\Lib\\site-packages\\sklearn\\svm\\_base.py:1235: ConvergenceWarning: Liblinear failed to converge, increase the number of iterations.\n",
      "  warnings.warn(\n"
     ]
    },
    {
     "name": "stdout",
     "output_type": "stream",
     "text": [
      "Matrice de confusion\n",
      "[[189835      0]\n",
      " [  2676  52411]]\n",
      "Balanced Accuracy : 0.976\n",
      "F1 Score : 0.975\n",
      "Average precision score : 0.972\n",
      "****** Balancing Approach ******\n"
     ]
    },
    {
     "name": "stderr",
     "output_type": "stream",
     "text": [
      "c:\\Users\\joanz\\anaconda3\\Lib\\site-packages\\sklearn\\svm\\_base.py:1235: ConvergenceWarning: Liblinear failed to converge, increase the number of iterations.\n",
      "  warnings.warn(\n"
     ]
    },
    {
     "name": "stdout",
     "output_type": "stream",
     "text": [
      "Matrice de confusion\n",
      "[[189835      0]\n",
      " [  2676  52411]]\n",
      "Balanced Accuracy : 0.976\n",
      "F1 Score : 0.975\n",
      "Average precision score : 0.972\n",
      "****** Under Sampling Approach ******\n"
     ]
    },
    {
     "name": "stderr",
     "output_type": "stream",
     "text": [
      "c:\\Users\\joanz\\anaconda3\\Lib\\site-packages\\sklearn\\svm\\_base.py:1235: ConvergenceWarning: Liblinear failed to converge, increase the number of iterations.\n",
      "  warnings.warn(\n"
     ]
    },
    {
     "name": "stdout",
     "output_type": "stream",
     "text": [
      "Matrice de confusion\n",
      "[[189825     10]\n",
      " [  2664  52423]]\n",
      "Balanced Accuracy : 0.976\n",
      "F1 Score : 0.975\n",
      "Average precision score : 0.974\n"
     ]
    },
    {
     "data": {
      "image/png": "[encoded data removed]",
      "text/plain": [
       "<Figure size 640x480 with 1 Axes>"
      ]
     },
     "metadata": {},
     "output_type": "display_data"
    },
    {
     "name": "stdout",
     "output_type": "stream",
     "text": [
      "***************** LR_Norm *****************\n"
     ]
    },
    {
     "name": "stderr",
     "output_type": "stream",
     "text": [
      "c:\\Users\\joanz\\anaconda3\\Lib\\site-packages\\sklearn\\svm\\_base.py:1235: ConvergenceWarning: Liblinear failed to converge, increase the number of iterations.\n",
      "  warnings.warn(\n"
     ]
    },
    {
     "name": "stdout",
     "output_type": "stream",
     "text": [
      "****** Original Approach ******\n"
     ]
    },
    {
     "name": "stderr",
     "output_type": "stream",
     "text": [
      "c:\\Users\\joanz\\anaconda3\\Lib\\site-packages\\sklearn\\svm\\_base.py:1235: ConvergenceWarning: Liblinear failed to converge, increase the number of iterations.\n",
      "  warnings.warn(\n"
     ]
    },
    {
     "name": "stdout",
     "output_type": "stream",
     "text": [
      "Matrice de confusion\n",
      "[[189656    179]\n",
      " [  2289  52798]]\n",
      "Balanced Accuracy : 0.979\n",
      "F1 Score : 0.977\n",
      "Average precision score : 0.976\n",
      "****** Balancing Approach ******\n"
     ]
    },
    {
     "name": "stderr",
     "output_type": "stream",
     "text": [
      "c:\\Users\\joanz\\anaconda3\\Lib\\site-packages\\sklearn\\svm\\_base.py:1235: ConvergenceWarning: Liblinear failed to converge, increase the number of iterations.\n",
      "  warnings.warn(\n"
     ]
    },
    {
     "name": "stdout",
     "output_type": "stream",
     "text": [
      "Matrice de confusion\n",
      "[[189656    179]\n",
      " [  2289  52798]]\n",
      "Balanced Accuracy : 0.979\n",
      "F1 Score : 0.977\n",
      "Average precision score : 0.976\n",
      "****** Under Sampling Approach ******\n"
     ]
    },
    {
     "name": "stderr",
     "output_type": "stream",
     "text": [
      "c:\\Users\\joanz\\anaconda3\\Lib\\site-packages\\sklearn\\svm\\_base.py:1235: ConvergenceWarning: Liblinear failed to converge, increase the number of iterations.\n",
      "  warnings.warn(\n"
     ]
    },
    {
     "name": "stdout",
     "output_type": "stream",
     "text": [
      "Matrice de confusion\n",
      "[[189824     11]\n",
      " [  2664  52423]]\n",
      "Balanced Accuracy : 0.976\n",
      "F1 Score : 0.975\n",
      "Average precision score : 0.974\n"
     ]
    },
    {
     "data": {
      "image/png": "[encoded data removed]",
      "text/plain": [
       "<Figure size 640x480 with 1 Axes>"
      ]
     },
     "metadata": {},
     "output_type": "display_data"
    },
    {
     "name": "stdout",
     "output_type": "stream",
     "text": [
      "***************** RF *****************\n",
      "****** Original Approach ******\n",
      "Matrice de confusion\n",
      "[[189830      5]\n",
      " [     9  55078]]\n",
      "Balanced Accuracy : 1.000\n",
      "F1 Score : 1.000\n",
      "Average precision score : 1.000\n",
      "****** Balancing Approach ******\n",
      "Matrice de confusion\n",
      "[[189830      5]\n",
      " [     9  55078]]\n",
      "Balanced Accuracy : 1.000\n",
      "F1 Score : 1.000\n",
      "Average precision score : 1.000\n",
      "****** Under Sampling Approach ******\n",
      "Matrice de confusion\n",
      "[[189830      5]\n",
      " [     8  55079]]\n",
      "Balanced Accuracy : 1.000\n",
      "F1 Score : 1.000\n",
      "Average precision score : 1.000\n"
     ]
    },
    {
     "data": {
      "image/png": "[encoded data removed]",
      "text/plain": [
       "<Figure size 640x480 with 1 Axes>"
      ]
     },
     "metadata": {},
     "output_type": "display_data"
    },
    {
     "name": "stdout",
     "output_type": "stream",
     "text": [
      "Enregistrement du meilleur modèle avec un score de 0.9999101750009952\n"
     ]
    }
   ],
   "source": [
    "comparaison(Xtrain,Xtest,Ytrain,Ytest,models)"
   ]
  }
 ],
 "metadata": {
  "kernelspec": {
   "display_name": "base",
   "language": "python",
   "name": "python3"
  },
  "language_info": {
   "codemirror_mode": {
    "name": "ipython",
    "version": 3
   },
   "file_extension": ".py",
   "mimetype": "text/x-python",
   "name": "python",
   "nbconvert_exporter": "python",
   "pygments_lexer": "ipython3",
   "version": "3.12.7"
  }
 },
 "nbformat": 4,
 "nbformat_minor": 5
}
